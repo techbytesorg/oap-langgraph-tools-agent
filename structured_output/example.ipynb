{
 "cells": [
  {
   "cell_type": "markdown",
   "id": "2ccbdd54",
   "metadata": {},
   "source": [
    "## Imports"
   ]
  },
  {
   "cell_type": "code",
   "execution_count": 89,
   "id": "0f9f06b5",
   "metadata": {},
   "outputs": [
    {
     "data": {
      "text/plain": [
       "True"
      ]
     },
     "execution_count": 89,
     "metadata": {},
     "output_type": "execute_result"
    }
   ],
   "source": [
    "import os\n",
    "import asyncio\n",
    "from pydantic import BaseModel, Field\n",
    "from typing import List\n",
    "from langgraph_sdk import get_client\n",
    "from dotenv import load_dotenv\n",
    "from supabase import create_client, Client\n",
    "\n",
    "# Load environment variables\n",
    "load_dotenv()\n"
   ]
  },
  {
   "cell_type": "markdown",
   "id": "f172b7c3",
   "metadata": {},
   "source": [
    "## Authentication"
   ]
  },
  {
   "cell_type": "code",
   "execution_count": 90,
   "id": "03ffc076",
   "metadata": {},
   "outputs": [],
   "source": [
    "# Supabase configuration\n",
    "SUPABASE_URL = os.environ.get(\"SUPABASE_URL\")\n",
    "SUPABASE_KEY = os.environ.get(\"SUPABASE_KEY\")\n",
    "USER_EMAIL = os.environ.get(\"USER_EMAIL\")\n",
    "USER_PASSWORD = os.environ.get(\"USER_PASSWORD\")\n",
    "\n",
    "# LangGraph configuration\n",
    "LANGGRAPH_API_URL = \"http://localhost:2024\"  # Change if needed\n"
   ]
  },
  {
   "cell_type": "code",
   "execution_count": 91,
   "id": "c452e050",
   "metadata": {},
   "outputs": [],
   "source": [
    "def authenticate_supabase() -> str:\n",
    "    \"\"\"Authenticate with Supabase and return access token\"\"\"\n",
    "    supabase: Client = create_client(SUPABASE_URL, SUPABASE_KEY)\n",
    "    response = supabase.auth.sign_in_with_password({\n",
    "        \"email\": USER_EMAIL,\n",
    "        \"password\": USER_PASSWORD,\n",
    "    })\n",
    "    if response.session is None:\n",
    "        raise RuntimeError(f\"Supabase authentication failed: {response}\")\n",
    "    return response.session.access_token\n",
    "\n",
    "def get_authenticated_client():\n",
    "    \"\"\"Get authenticated LangGraph client\"\"\"\n",
    "    access_token = authenticate_supabase()\n",
    "    headers = {\n",
    "        \"accept\": \"application/json\",\n",
    "        \"Authorization\": f\"Bearer {access_token}\",\n",
    "    }\n",
    "    return get_client(url=LANGGRAPH_API_URL, headers=headers)"
   ]
  },
  {
   "cell_type": "code",
   "execution_count": 92,
   "id": "159230e9",
   "metadata": {},
   "outputs": [
    {
     "name": "stdout",
     "output_type": "stream",
     "text": [
      "<langgraph_sdk.client.LangGraphClient object at 0x7a82600ad820>\n"
     ]
    }
   ],
   "source": [
    "client = get_authenticated_client()\n",
    "print(client)"
   ]
  },
  {
   "cell_type": "markdown",
   "id": "953173c6",
   "metadata": {},
   "source": [
    "## Create/Update Schema"
   ]
  },
  {
   "cell_type": "code",
   "execution_count": 93,
   "id": "a7c5c3bc",
   "metadata": {},
   "outputs": [],
   "source": [
    "class AllergenEntry(BaseModel):\n",
    "    allergen: str = Field(..., description=\"Name of the allergen, e.g., 'peanut'\")\n",
    "    reason: str = Field(..., description=\"Reason this allergen is high risk\")\n",
    "\n",
    "\n",
    "class AllergyAnalysisResponse(BaseModel):\n",
    "    high_risk_allergen: List[AllergenEntry] = Field(description=\"List of allergen-risk mappings\")\n",
    "    recommendation: str = Field(description=\"Overall recommendation for handling this recipe\")\n",
    "\n",
    "schema_name = \"AllergyAnalysisResponse\""
   ]
  },
  {
   "cell_type": "code",
   "execution_count": 94,
   "id": "19de41d6",
   "metadata": {},
   "outputs": [],
   "source": [
    "# Get user info to build namespace\n",
    "access_token = authenticate_supabase()\n",
    "supabase: Client = create_client(SUPABASE_URL, SUPABASE_KEY)\n",
    "user_response = supabase.auth.get_user(access_token)\n",
    "user_id = user_response.user.id\n"
   ]
  },
  {
   "cell_type": "code",
   "execution_count": 95,
   "id": "75508cad",
   "metadata": {},
   "outputs": [
    {
     "name": "stdout",
     "output_type": "stream",
     "text": [
      "Stored schema: AllergyAnalysisResponse\n"
     ]
    }
   ],
   "source": [
    "await client.store.put_item([user_id, \"schemas\"], schema_name, AllergyAnalysisResponse.model_json_schema())\n",
    "print(f\"Stored schema: {schema_name}\")"
   ]
  },
  {
   "cell_type": "code",
   "execution_count": 96,
   "id": "63e4f618",
   "metadata": {},
   "outputs": [
    {
     "data": {
      "text/plain": [
       "('AllergyAnalysisResponse',\n",
       " {'$defs': {'AllergenEntry': {'properties': {'allergen': {'description': \"Name of the allergen, e.g., 'peanut'\",\n",
       "      'title': 'Allergen',\n",
       "      'type': 'string'},\n",
       "     'reason': {'description': 'Reason this allergen is high risk',\n",
       "      'title': 'Reason',\n",
       "      'type': 'string'}},\n",
       "    'required': ['allergen', 'reason'],\n",
       "    'title': 'AllergenEntry',\n",
       "    'type': 'object'}},\n",
       "  'properties': {'high_risk_allergen': {'description': 'List of allergen-risk mappings',\n",
       "    'items': {'$ref': '#/$defs/AllergenEntry'},\n",
       "    'title': 'High Risk Allergen',\n",
       "    'type': 'array'},\n",
       "   'recommendation': {'description': 'Overall recommendation for handling this recipe',\n",
       "    'title': 'Recommendation',\n",
       "    'type': 'string'}},\n",
       "  'required': ['high_risk_allergen', 'recommendation'],\n",
       "  'title': 'AllergyAnalysisResponse',\n",
       "  'type': 'object'})"
      ]
     },
     "execution_count": 96,
     "metadata": {},
     "output_type": "execute_result"
    }
   ],
   "source": [
    "schema_name, AllergyAnalysisResponse.model_json_schema()"
   ]
  },
  {
   "cell_type": "markdown",
   "id": "4733e157",
   "metadata": {},
   "source": [
    "## Read schemas"
   ]
  },
  {
   "cell_type": "code",
   "execution_count": 97,
   "id": "fcb97474",
   "metadata": {},
   "outputs": [
    {
     "name": "stdout",
     "output_type": "stream",
     "text": [
      "Available schemas:\n",
      "  - OutputSchemaA\n",
      "  - OutputSchemaB\n",
      "  - RecipeNutritionAnalysis\n",
      "  - IngredientClassification\n",
      "  - FoodSafetyReport\n",
      "  - MenuPlanning\n",
      "  - RecipeInstructions\n",
      "  - SupplierQuote\n",
      "  - QualityInspection\n",
      "  - AllergyAnalysisResponse\n"
     ]
    }
   ],
   "source": [
    "results = await client.store.search_items([user_id, \"schemas\"])\n",
    "schemas = [item[\"key\"] for item in results[\"items\"]]\n",
    "print(\"Available schemas:\")\n",
    "for schema in schemas:\n",
    "    print(f\"  - {schema}\")\n"
   ]
  },
  {
   "cell_type": "markdown",
   "id": "5fda637d",
   "metadata": {},
   "source": [
    "## Invoking agent with schema"
   ]
  },
  {
   "cell_type": "code",
   "execution_count": 98,
   "id": "5f663d02",
   "metadata": {},
   "outputs": [],
   "source": [
    "ASSISTANT_ID = \"agent\"\n",
    "\n",
    "# Test recipe for allergy analysis\n",
    "FRESHPREP_TEST_RECIPE = \"\"\"\n",
    "Pulled Chicken Fajitas\n",
    "with Chipotle-Pineapple Sauce & Cheddar\n",
    "Poultry - Local, Free Run, Antibiotic Free\n",
    "Milk\n",
    "Gluten\n",
    "Seafood\n",
    "Serves\n",
    "2\n",
    "Difficulty\n",
    "Moderate\n",
    "Time\n",
    "30 Min\n",
    "Ingredients\n",
    "Onion\n",
    "Chipotle Pepper in Adobo Sauce\n",
    "Chicken Breast\n",
    "Worcestershire Sauce\n",
    "Aged White Cheddar Cheese\n",
    "Flour Tortillas 6\"\n",
    "Cilantro\n",
    "Assorted Mini Bell Peppers\n",
    "Coconut Sugar\n",
    "Green Cabbage\n",
    "Pineapple-Lime Juice\n",
    "Spice Blend\n",
    "Lime Crema\n",
    "* Pineapple-Lime Juice: Pineapple Juice , Fresh Lime Juice\n",
    "* Spice Blend: Smoked Paprika , Cumin\n",
    "* Lime Crema: Sour Cream , Mayonnaise , Fresh Lime Juice\n",
    "\"\"\""
   ]
  },
  {
   "cell_type": "code",
   "execution_count": 99,
   "id": "35394f05",
   "metadata": {},
   "outputs": [
    {
     "name": "stdout",
     "output_type": "stream",
     "text": [
      "Assistant created successfully\n",
      "Assistant ID: c81e51c6-18e1-4acd-9076-61275307e4e8\n",
      "Assistant Name: Structured Output Assistant\n",
      "Schema: AllergyAnalysisResponse\n",
      "Version: 1\n"
     ]
    }
   ],
   "source": [
    "assistant=await client.assistants.create(\n",
    "    graph_id = ASSISTANT_ID,\n",
    "    config={\n",
    "        \"configurable\": {\n",
    "            \"OutputSchemaName\": schema_name\n",
    "        }\n",
    "    },\n",
    "    name=\"Structured Output Assistant\"\n",
    ")\n",
    "\n",
    "print(\"Assistant created successfully\")\n",
    "print(f\"Assistant ID: {assistant['assistant_id']}\")\n",
    "print(f\"Assistant Name: {assistant['name']}\")\n",
    "print(f\"Schema: {assistant['config']['configurable']['OutputSchemaName']}\")\n",
    "print(f\"Version: {assistant['version']}\")\n",
    "\n"
   ]
  },
  {
   "cell_type": "code",
   "execution_count": 100,
   "id": "c9d70ce3",
   "metadata": {},
   "outputs": [
    {
     "name": "stdout",
     "output_type": "stream",
     "text": [
      "Thread created:6c701431-12ae-4a8c-b5fb-84d05c8ddcf6\n"
     ]
    }
   ],
   "source": [
    "# Create a new thread\n",
    "thread = await client.threads.create()\n",
    "\n",
    "print(f\"Thread created:{thread['thread_id']}\")"
   ]
  },
  {
   "cell_type": "code",
   "execution_count": 101,
   "id": "37c92245",
   "metadata": {},
   "outputs": [],
   "source": [
    "input_data = {\"messages\": [{\"role\": \"user\", \"content\": f\"Analyze this recipe for food allergens:\\n\\n{FRESHPREP_TEST_RECIPE}\\n\\nIdentify high-risk allergens with reasons, and provide recommendations for people with allergies.\"}]}"
   ]
  },
  {
   "cell_type": "code",
   "execution_count": 102,
   "id": "20890909",
   "metadata": {},
   "outputs": [
    {
     "name": "stdout",
     "output_type": "stream",
     "text": [
      "📋 Run started (ID: 1f09e519...)\n",
      "\n",
      "✨ Extracted Structured Response (JSON):\n",
      "{\n",
      "    \"high_risk_allergen\": [\n",
      "        {\n",
      "            \"allergen\": \"Milk\",\n",
      "            \"reason\": \"The recipe includes aged white cheddar cheese and lime crema, which contains sour cream. Both ingredients are dairy products.\"\n",
      "        },\n",
      "        {\n",
      "            \"allergen\": \"Gluten\",\n",
      "            \"reason\": \"Flour tortillas are made from wheat, which contains gluten and is problematic for those with gluten intolerance or celiac disease.\"\n",
      "        },\n",
      "        {\n",
      "            \"allergen\": \"Seafood\",\n",
      "            \"reason\": \"Worcestershire sauce can sometimes contain anchovies, a type of seafood, which is a common allergen.\"\n",
      "        }\n",
      "    ],\n",
      "    \"recommendation\": \"For individuals with a milk allergy, substitute cheddar cheese with a dairy-free cheese alternative and replace lime crema with a dairy-free yogurt or mayonnaise. Use gluten-free tortillas for those with gluten intolerance. Verify Worcestershire sauce is seafood-free or use a vegan alternative. Consider egg-free mayonnaise for the lime crema. Always read ingredient labels and ensure preparation areas are clean to avoid cross-contamination.\"\n",
      "}\n"
     ]
    }
   ],
   "source": [
    "import json\n",
    "\n",
    "# Stream the response with cleaner formatting\n",
    "async for event in client.runs.stream(\n",
    "    thread[\"thread_id\"],\n",
    "    assistant[\"assistant_id\"],\n",
    "    input=input_data,\n",
    "    stream_mode=\"updates\",\n",
    "):\n",
    "    if event.event == \"metadata\":\n",
    "        print(f\"📋 Run started (ID: {event.data.get('run_id', 'Unknown')[:8]}...)\")\n",
    "        \n",
    "    elif event.event == \"updates\":\n",
    "        \n",
    "        # # Handle agent updates (AI messages and tool calls)\n",
    "        # if \"agent\" in event.data:\n",
    "        #     for msg in event.data[\"agent\"][\"messages\"]:\n",
    "        #         if msg[\"type\"] == \"ai\":\n",
    "        #             # Check if AI is making tool calls\n",
    "        #             if msg.get(\"tool_calls\"):\n",
    "        #                 for tool_call in msg[\"tool_calls\"]:\n",
    "        #                     tool_name = tool_call.get(\"name\", \"Unknown\")\n",
    "        #                     print(f\"🔧 Calling tool: {tool_name}\")\n",
    "        #                     # Show tool arguments in a clean way\n",
    "        #                     if \"args\" in tool_call and tool_call[\"args\"]:\n",
    "        #                         args_str = str(tool_call[\"args\"])\n",
    "        #                         if len(args_str) > 100:\n",
    "        #                             args_str = args_str[:100] + \"...\"\n",
    "        #                         print(f\"   └─ Args: {args_str}\")\n",
    "                    \n",
    "        #             # Show AI response content (if not just tool calls)\n",
    "        #             elif msg.get(\"content\") and msg[\"content\"].strip():\n",
    "        #                 print(f\"💬 Assistant Response:\")\n",
    "        #                 # Show full response for final answers\n",
    "        #                 content = msg[\"content\"]\n",
    "        #                 if len(content) > 500:\n",
    "        #                     print(f\"{content}\\n\")\n",
    "        #                 else:\n",
    "        #                     print(f\"{content}\\n\")\n",
    "        \n",
    "        # # Handle tool responses\n",
    "        # elif \"tools\" in event.data:\n",
    "        #     for msg in event.data[\"tools\"][\"messages\"]:\n",
    "        #         if msg[\"type\"] == \"tool\":\n",
    "        #             tool_name = msg.get(\"name\", \"Unknown tool\")\n",
    "        #             print(f\"✅ Tool '{tool_name}' completed\")\n",
    "        #             # Show brief summary of tool response\n",
    "        #             content = msg.get(\"content\", \"\")\n",
    "        #             if content:\n",
    "        #                 # For research tool, try to count results\n",
    "        #                 try:\n",
    "        #                     import json\n",
    "        #                     results = json.loads(content)\n",
    "        #                     if isinstance(results, list):\n",
    "        #                         print(f\"   └─ Found {len(results)} results\")\n",
    "        #                     else:\n",
    "        #                         print(f\"   └─ Result: {str(content)[:150]}...\")\n",
    "        #                 except:\n",
    "        #                     print(f\"   └─ Result: {str(content)[:150]}...\")\n",
    "        \n",
    "        # Handle the structured response event\n",
    "        if \"generate_structured_response\" in event.data:\n",
    "            structured_data = event.data[\"generate_structured_response\"][\"structured_response\"]\n",
    "            print(\"\\n✨ Extracted Structured Response (JSON):\")\n",
    "            # Use json.dumps to print the JSON object cleanly\n",
    "            print(json.dumps(structured_data, indent=4)) \n",
    "\n",
    "        "
   ]
  },
  {
   "cell_type": "markdown",
   "id": "ffb8d30f",
   "metadata": {},
   "source": [
    "## Delete Schema"
   ]
  },
  {
   "cell_type": "code",
   "execution_count": 103,
   "id": "3398ce66",
   "metadata": {},
   "outputs": [],
   "source": [
    "schema_name_to_delete = \"AllergyAnalysisResponse\""
   ]
  },
  {
   "cell_type": "code",
   "execution_count": 104,
   "id": "99584955",
   "metadata": {},
   "outputs": [
    {
     "name": "stdout",
     "output_type": "stream",
     "text": [
      "Deleted schema: AllergyAnalysisResponse\n"
     ]
    }
   ],
   "source": [
    "# await client.store.delete_item([user_id, \"schemas\"], schema_name_to_delete)\n",
    "print(f\"Deleted schema: {schema_name}\")"
   ]
  }
 ],
 "metadata": {
  "kernelspec": {
   "display_name": ".venv",
   "language": "python",
   "name": "python3"
  },
  "language_info": {
   "codemirror_mode": {
    "name": "ipython",
    "version": 3
   },
   "file_extension": ".py",
   "mimetype": "text/x-python",
   "name": "python",
   "nbconvert_exporter": "python",
   "pygments_lexer": "ipython3",
   "version": "3.12.4"
  }
 },
 "nbformat": 4,
 "nbformat_minor": 5
}
